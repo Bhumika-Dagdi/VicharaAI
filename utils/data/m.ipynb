{
 "cells": [
  {
   "cell_type": "code",
   "execution_count": 4,
   "id": "1a7d0491",
   "metadata": {},
   "outputs": [
    {
     "name": "stdout",
     "output_type": "stream",
     "text": [
      "Index(['Date', 'Source', 'Aries (March 21-April 20)',\n",
      "       'Taurus (April 21-May 20)', 'Gemini (May 21-Jun 21)',\n",
      "       'Cancer (Jun 22-July 22)', 'Leo (July 23-August 23)',\n",
      "       'Virgo (August 24-September 23)', 'Libra (September 24-October 23)',\n",
      "       'Scorpio (October 24-November 22)',\n",
      "       'Sagittarius (November 23-December 21)',\n",
      "       'Capricorn (December 22-January 21)',\n",
      "       'Aquarius (January 22-February 19)', 'Pisces (February 20-March 20)'],\n",
      "      dtype='object')\n"
     ]
    }
   ],
   "source": [
    "import pandas as pd\n",
    "df = pd.read_csv(\"Daily_Horoscope.csv\")\n",
    "print(df.columns)"
   ]
  },
  {
   "cell_type": "code",
   "execution_count": null,
   "id": "a6319858",
   "metadata": {},
   "outputs": [],
   "source": []
  }
 ],
 "metadata": {
  "kernelspec": {
   "display_name": "py310",
   "language": "python",
   "name": "python3"
  },
  "language_info": {
   "codemirror_mode": {
    "name": "ipython",
    "version": 3
   },
   "file_extension": ".py",
   "mimetype": "text/x-python",
   "name": "python",
   "nbconvert_exporter": "python",
   "pygments_lexer": "ipython3",
   "version": "3.10.14"
  }
 },
 "nbformat": 4,
 "nbformat_minor": 5
}
